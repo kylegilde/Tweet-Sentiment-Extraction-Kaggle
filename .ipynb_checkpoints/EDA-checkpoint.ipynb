{
 "cells": [
  {
   "cell_type": "code",
   "execution_count": 1,
   "metadata": {
    "scrolled": true
   },
   "outputs": [],
   "source": [
    "import os\n",
    "\n",
    "import numpy as np\n",
    "import pandas as pd\n",
    "pd.set_option('display.max_colwidth', 0)\n",
    "# import swifter\n",
    "\n",
    "import spacy\n",
    "from spacy.lang.en import English\n",
    "from sklearn.feature_extraction.text import TfidfVectorizer\n",
    "from sklearn.feature_selection import chi2\n",
    "import re\n",
    "\n",
    "import matplotlib.pyplot as plt\n",
    "import seaborn as sns\n",
    "import plotly.graph_objects as go\n",
    "\n",
    "from sklearn.pipeline import Pipeline\n",
    "from sklearn.model_selection import train_test_split, GridSearchCV, StratifiedKFold\n",
    "from sklearn.metrics import classification_report, confusion_matrix\n",
    "\n",
    "from IPython.display import display, HTML\n",
    "import warnings\n",
    "# warnings.filterwarnings('ignore')\n",
    "\n",
    "# HTML('''<script>\n",
    "# code_show=true; \n",
    "# function code_toggle() {\n",
    "#  if (code_show){\n",
    "#  $('div.input').hide();\n",
    "#  } else {\n",
    "#  $('div.input').show();\n",
    "#  }\n",
    "#  code_show = !code_show\n",
    "# } \n",
    "# $( document ).ready(code_toggle);\n",
    "# </script>\n",
    "# <form action=\"javascript:code_toggle()\"><input type=\"submit\" value=\"Click here to toggle on/off the raw code.\"></form>''')\n"
   ]
  },
  {
   "cell_type": "code",
   "execution_count": 259,
   "metadata": {},
   "outputs": [],
   "source": [
    "\n",
    "\n",
    "def decontracted(phrase):\n",
    "    # specific\n",
    "    # https://stackoverflow.com/a/47091370/4463701\n",
    "    phrase = re.sub(r\"won\\'t\", \"will not\", phrase)\n",
    "    phrase = re.sub(r\"can\\'t\", \"can not\", phrase)\n",
    "\n",
    "    # general\n",
    "    phrase = re.sub(r\"n\\'t\", \" not\", phrase)\n",
    "    phrase = re.sub(r\"\\'re\", \" are\", phrase)\n",
    "    phrase = re.sub(r\"\\'s\", \" is\", phrase)\n",
    "    phrase = re.sub(r\"\\'d\", \" would\", phrase)\n",
    "    phrase = re.sub(r\"\\'ll\", \" will\", phrase)\n",
    "    phrase = re.sub(r\"\\'t\", \" not\", phrase)\n",
    "    phrase = re.sub(r\"\\'ve\", \" have\", phrase)\n",
    "    phrase = re.sub(r\"\\'m\", \" am\", phrase)\n",
    "    return phrase\n",
    "\n",
    "\n",
    "def replace_not_contractions(doc):\n",
    "    \"\"\"\n",
    "    Passed as the callable to Pandas.apply()\n",
    "    Replaces \"n't\" with \" not\"\n",
    "    \"\"\"\n",
    "    if \"n't\" in doc:\n",
    "        tokens = []\n",
    "        for token in doc.split():\n",
    "            if token.endswith(\"n't\"):\n",
    "                if token == \"can't\":\n",
    "                    token = \" can not \"\n",
    "                elif token == \"won't\":\n",
    "                    token = \" will not \"\n",
    "                else:\n",
    "                    token = token.replace(\"n't\", \" not \")\n",
    "            tokens.append(token)\n",
    "        return ' '.join(tokens)  \n",
    "    else:\n",
    "        return doc"
   ]
  },
  {
   "cell_type": "code",
   "execution_count": 2,
   "metadata": {},
   "outputs": [],
   "source": [
    "train_df, test_df = pd.read_csv('~/Tweet-Sentiment-Extraction-Data/train.csv').set_index('textID'),\\\n",
    "                    pd.read_csv('~/Tweet-Sentiment-Extraction-Data/test.csv').set_index('textID')"
   ]
  },
  {
   "cell_type": "code",
   "execution_count": 3,
   "metadata": {
    "scrolled": true
   },
   "outputs": [],
   "source": [
    "all_df = pd.concat([train_df, test_df], keys=['train', 'test'], \n",
    "                   names=['dataset'])\\\n",
    "                   .reset_index('dataset')\n"
   ]
  },
  {
   "cell_type": "code",
   "execution_count": 6,
   "metadata": {},
   "outputs": [
    {
     "name": "stdout",
     "output_type": "stream",
     "text": [
      "<class 'pandas.core.frame.DataFrame'>\n",
      "Index: 27481 entries, cb774db0d1 to 6f7127d9d7\n",
      "Data columns (total 3 columns):\n",
      " #   Column         Non-Null Count  Dtype \n",
      "---  ------         --------------  ----- \n",
      " 0   text           27480 non-null  object\n",
      " 1   selected_text  27480 non-null  object\n",
      " 2   sentiment      27481 non-null  object\n",
      "dtypes: object(3)\n",
      "memory usage: 858.8+ KB\n",
      "None\n",
      "<class 'pandas.core.frame.DataFrame'>\n",
      "Index: 3534 entries, f87dea47db to 469e15c5a8\n",
      "Data columns (total 2 columns):\n",
      " #   Column     Non-Null Count  Dtype \n",
      "---  ------     --------------  ----- \n",
      " 0   text       3534 non-null   object\n",
      " 1   sentiment  3534 non-null   object\n",
      "dtypes: object(2)\n",
      "memory usage: 82.8+ KB\n",
      "None\n"
     ]
    }
   ],
   "source": [
    "print(train_df.info())\n",
    "print(test_df.info())\n"
   ]
  },
  {
   "cell_type": "markdown",
   "metadata": {},
   "source": [
    "# Selected Text Analysis\n",
    "\n",
    "## Word Counts"
   ]
  },
  {
   "cell_type": "code",
   "execution_count": 37,
   "metadata": {
    "scrolled": false
   },
   "outputs": [
    {
     "data": {
      "text/plain": [
       "<matplotlib.axes._subplots.AxesSubplot at 0x17d60bb4ac0>"
      ]
     },
     "execution_count": 37,
     "metadata": {},
     "output_type": "execute_result"
    },
    {
     "data": {
      "image/png": "[encoded data removed]",
      "text/plain": [
       "<Figure size 432x288 with 1 Axes>"
      ]
     },
     "metadata": {
      "needs_background": "light"
     },
     "output_type": "display_data"
    }
   ],
   "source": [
    "all_df.selected_text.fillna('').str.split().str.len().plot.hist()"
   ]
  },
  {
   "cell_type": "code",
   "execution_count": 34,
   "metadata": {
    "scrolled": true
   },
   "outputs": [
    {
     "data": {
      "text/html": [
       "<div>\n",
       "<style scoped>\n",
       "    .dataframe tbody tr th:only-of-type {\n",
       "        vertical-align: middle;\n",
       "    }\n",
       "\n",
       "    .dataframe tbody tr th {\n",
       "        vertical-align: top;\n",
       "    }\n",
       "\n",
       "    .dataframe thead th {\n",
       "        text-align: right;\n",
       "    }\n",
       "</style>\n",
       "<table border=\"1\" class=\"dataframe\">\n",
       "  <thead>\n",
       "    <tr style=\"text-align: right;\">\n",
       "      <th></th>\n",
       "      <th>dataset</th>\n",
       "      <th>text</th>\n",
       "      <th>selected_text</th>\n",
       "      <th>sentiment</th>\n",
       "    </tr>\n",
       "    <tr>\n",
       "      <th>textID</th>\n",
       "      <th></th>\n",
       "      <th></th>\n",
       "      <th></th>\n",
       "      <th></th>\n",
       "    </tr>\n",
       "  </thead>\n",
       "  <tbody>\n",
       "    <tr>\n",
       "      <th>a6c61eac26</th>\n",
       "      <td>train</td>\n",
       "      <td>she is good! so gor-juz yea i kno i asked her yesterday when we were at tha hospital if she talked to u and she said no</td>\n",
       "      <td>she is good! so gor-juz yea i kno i asked her yesterday when we were at tha hospital if she talked to u and she said no</td>\n",
       "      <td>neutral</td>\n",
       "    </tr>\n",
       "    <tr>\n",
       "      <th>94bd67443c</th>\n",
       "      <td>train</td>\n",
       "      <td>OK - I`m out of here for now. Just popped in to say Hi and check on things. I`ll probably head to the guttah later on tonight</td>\n",
       "      <td>OK - I`m out of here for now. Just popped in to say Hi and check on things. I`ll probably head to the guttah later on tonight</td>\n",
       "      <td>neutral</td>\n",
       "    </tr>\n",
       "    <tr>\n",
       "      <th>0c0563423e</th>\n",
       "      <td>train</td>\n",
       "      <td>Miles from you   I`m in Essex so give me plenty of warning so I can arrive in time to get at least one of those free beers.</td>\n",
       "      <td>Miles from you   I`m in Essex so give me plenty of warning so I can arrive in time to get at least one of those free beers</td>\n",
       "      <td>neutral</td>\n",
       "    </tr>\n",
       "    <tr>\n",
       "      <th>cd0d522bb1</th>\n",
       "      <td>train</td>\n",
       "      <td>His snoring is so annoying n it keeps me from sleeping (like right now, lol) but I honestly wud miss it if it eva left  I love him.</td>\n",
       "      <td>His snoring is so annoying n it keeps me from sleeping (like right now, lol) but I honestly wud miss it if it eva left  I love him.</td>\n",
       "      <td>neutral</td>\n",
       "    </tr>\n",
       "    <tr>\n",
       "      <th>3e67a75303</th>\n",
       "      <td>train</td>\n",
       "      <td>Today is going to be a normal day for I hope. We had a group of pilots from a large airline come in last night so it was too much drink</td>\n",
       "      <td>Today is going to be a normal day for I hope. We had a group of pilots from a large airline come in last night so it was too much drink</td>\n",
       "      <td>neutral</td>\n",
       "    </tr>\n",
       "    <tr>\n",
       "      <th>...</th>\n",
       "      <td>...</td>\n",
       "      <td>...</td>\n",
       "      <td>...</td>\n",
       "      <td>...</td>\n",
       "    </tr>\n",
       "    <tr>\n",
       "      <th>c0da406e23</th>\n",
       "      <td>train</td>\n",
       "      <td>samee well i aint a man i am a girl obv nd i am 14 lol   i aint no1 special or not famous or rich  wish to be tho ****</td>\n",
       "      <td>samee well i aint a man i am a girl obv nd i am 14 lol   i aint no1 special or not famous or rich  wish to be tho</td>\n",
       "      <td>neutral</td>\n",
       "    </tr>\n",
       "    <tr>\n",
       "      <th>d370238b6b</th>\n",
       "      <td>train</td>\n",
       "      <td>just saw an advert for ATTICS TO EDEN on tv  out today and only ï¿½9.99 from HMV...so I`m not sure why I had to pay ï¿½13 at HMV...never mind</td>\n",
       "      <td>just saw an advert for ATTICS TO EDEN on tv  out today and only ï¿½9.99 from HMV...so I`m not sure why I had to pay ï¿½13 at HMV...never mind</td>\n",
       "      <td>neutral</td>\n",
       "    </tr>\n",
       "    <tr>\n",
       "      <th>326afaf347</th>\n",
       "      <td>train</td>\n",
       "      <td>think 2 to start off with but a house that can fit 4 - or we may go the whole hog and get 4.... not sure yet</td>\n",
       "      <td>think 2 to start off with but a house that can fit 4 - or we may go the whole hog and get 4.... not sure yet</td>\n",
       "      <td>neutral</td>\n",
       "    </tr>\n",
       "    <tr>\n",
       "      <th>ea7bc30d23</th>\n",
       "      <td>train</td>\n",
       "      <td>Killed a pigeon today  Thought it was going to move out the way of the car.. next thing I know, BANG feathers in the rear view mirror RIP</td>\n",
       "      <td>Killed a pigeon today  Thought it was going to move out the way of the car.. next thing I know, BANG feathers in the rear view mirror RIP</td>\n",
       "      <td>negative</td>\n",
       "    </tr>\n",
       "    <tr>\n",
       "      <th>2ef8bef8cf</th>\n",
       "      <td>train</td>\n",
       "      <td>'We did it we did it oh yea yea yea no eating here tonite woo eating here tonight no no no eating here tonite you on a diet' finding nemo</td>\n",
       "      <td>'We did it we did it oh yea yea yea no eating here tonite woo eating here tonight no no no eating here tonite you on a diet' finding nemo</td>\n",
       "      <td>neutral</td>\n",
       "    </tr>\n",
       "  </tbody>\n",
       "</table>\n",
       "<p>469 rows × 4 columns</p>\n",
       "</div>"
      ],
      "text/plain": [
       "           dataset  \\\n",
       "textID               \n",
       "a6c61eac26  train    \n",
       "94bd67443c  train    \n",
       "0c0563423e  train    \n",
       "cd0d522bb1  train    \n",
       "3e67a75303  train    \n",
       "...           ...    \n",
       "c0da406e23  train    \n",
       "d370238b6b  train    \n",
       "326afaf347  train    \n",
       "ea7bc30d23  train    \n",
       "2ef8bef8cf  train    \n",
       "\n",
       "                                                                                                                                                     text  \\\n",
       "textID                                                                                                                                                      \n",
       "a6c61eac26   she is good! so gor-juz yea i kno i asked her yesterday when we were at tha hospital if she talked to u and she said no                        \n",
       "94bd67443c  OK - I`m out of here for now. Just popped in to say Hi and check on things. I`ll probably head to the guttah later on tonight                   \n",
       "0c0563423e   Miles from you   I`m in Essex so give me plenty of warning so I can arrive in time to get at least one of those free beers.                    \n",
       "cd0d522bb1  His snoring is so annoying n it keeps me from sleeping (like right now, lol) but I honestly wud miss it if it eva left  I love him.             \n",
       "3e67a75303  Today is going to be a normal day for I hope. We had a group of pilots from a large airline come in last night so it was too much drink         \n",
       "...                                                                                                                                         ...             \n",
       "c0da406e23   samee well i aint a man i am a girl obv nd i am 14 lol   i aint no1 special or not famous or rich  wish to be tho ****                         \n",
       "d370238b6b  just saw an advert for ATTICS TO EDEN on tv  out today and only ï¿½9.99 from HMV...so I`m not sure why I had to pay ï¿½13 at HMV...never mind   \n",
       "326afaf347    think 2 to start off with but a house that can fit 4 - or we may go the whole hog and get 4.... not sure yet                                  \n",
       "ea7bc30d23  Killed a pigeon today  Thought it was going to move out the way of the car.. next thing I know, BANG feathers in the rear view mirror RIP       \n",
       "2ef8bef8cf  'We did it we did it oh yea yea yea no eating here tonite woo eating here tonight no no no eating here tonite you on a diet' finding nemo       \n",
       "\n",
       "                                                                                                                                            selected_text  \\\n",
       "textID                                                                                                                                                      \n",
       "a6c61eac26  she is good! so gor-juz yea i kno i asked her yesterday when we were at tha hospital if she talked to u and she said no                         \n",
       "94bd67443c  OK - I`m out of here for now. Just popped in to say Hi and check on things. I`ll probably head to the guttah later on tonight                   \n",
       "0c0563423e  Miles from you   I`m in Essex so give me plenty of warning so I can arrive in time to get at least one of those free beers                      \n",
       "cd0d522bb1  His snoring is so annoying n it keeps me from sleeping (like right now, lol) but I honestly wud miss it if it eva left  I love him.             \n",
       "3e67a75303  Today is going to be a normal day for I hope. We had a group of pilots from a large airline come in last night so it was too much drink         \n",
       "...                                                                                                                                         ...             \n",
       "c0da406e23  samee well i aint a man i am a girl obv nd i am 14 lol   i aint no1 special or not famous or rich  wish to be tho                               \n",
       "d370238b6b  just saw an advert for ATTICS TO EDEN on tv  out today and only ï¿½9.99 from HMV...so I`m not sure why I had to pay ï¿½13 at HMV...never mind   \n",
       "326afaf347  think 2 to start off with but a house that can fit 4 - or we may go the whole hog and get 4.... not sure yet                                    \n",
       "ea7bc30d23  Killed a pigeon today  Thought it was going to move out the way of the car.. next thing I know, BANG feathers in the rear view mirror RIP       \n",
       "2ef8bef8cf  'We did it we did it oh yea yea yea no eating here tonite woo eating here tonight no no no eating here tonite you on a diet' finding nemo       \n",
       "\n",
       "           sentiment  \n",
       "textID                \n",
       "a6c61eac26  neutral   \n",
       "94bd67443c  neutral   \n",
       "0c0563423e  neutral   \n",
       "cd0d522bb1  neutral   \n",
       "3e67a75303  neutral   \n",
       "...             ...   \n",
       "c0da406e23  neutral   \n",
       "d370238b6b  neutral   \n",
       "326afaf347  neutral   \n",
       "ea7bc30d23  negative  \n",
       "2ef8bef8cf  neutral   \n",
       "\n",
       "[469 rows x 4 columns]"
      ]
     },
     "execution_count": 34,
     "metadata": {},
     "output_type": "execute_result"
    }
   ],
   "source": [
    "all_df[all_df.selected_text.fillna('').str.split().str.len() > 25]"
   ]
  },
  {
   "cell_type": "markdown",
   "metadata": {},
   "source": [
    "## Unique Characters"
   ]
  },
  {
   "cell_type": "code",
   "execution_count": 75,
   "metadata": {},
   "outputs": [
    {
     "data": {
      "text/plain": [
       "\" !#$%&'()*+,-./0123456789:;<=>?@ABCDEFGHIJKLMNOPQRSTUVWXYZ[\\\\]^_`abcdefghijklmnopqrstuvwxyz{|}~½¿ï\""
      ]
     },
     "execution_count": 75,
     "metadata": {},
     "output_type": "execute_result"
    }
   ],
   "source": [
    "unique_characters = sorted(set(train_df.selected_text.fillna('').sum()))\n",
    "\n",
    "''.join(unique_characters)"
   ]
  },
  {
   "cell_type": "code",
   "execution_count": 70,
   "metadata": {
    "scrolled": false
   },
   "outputs": [
    {
     "data": {
      "text/html": [
       "<div>\n",
       "<style scoped>\n",
       "    .dataframe tbody tr th:only-of-type {\n",
       "        vertical-align: middle;\n",
       "    }\n",
       "\n",
       "    .dataframe tbody tr th {\n",
       "        vertical-align: top;\n",
       "    }\n",
       "\n",
       "    .dataframe thead th {\n",
       "        text-align: right;\n",
       "    }\n",
       "</style>\n",
       "<table border=\"1\" class=\"dataframe\">\n",
       "  <thead>\n",
       "    <tr style=\"text-align: right;\">\n",
       "      <th></th>\n",
       "      <th>text</th>\n",
       "      <th>selected_text</th>\n",
       "      <th>sentiment</th>\n",
       "    </tr>\n",
       "    <tr>\n",
       "      <th>textID</th>\n",
       "      <th></th>\n",
       "      <th></th>\n",
       "      <th></th>\n",
       "    </tr>\n",
       "  </thead>\n",
       "  <tbody>\n",
       "    <tr>\n",
       "      <th>a10e8911e9</th>\n",
       "      <td>if aint Bee then it aint me...ya heard me?  {this for u keemie}</td>\n",
       "      <td>if aint Bee then it aint me...ya heard me?  {this for u keemie}</td>\n",
       "      <td>neutral</td>\n",
       "    </tr>\n",
       "    <tr>\n",
       "      <th>6a820dfeec</th>\n",
       "      <td>I HATE FLORISTS  No rose for cassadee tomorrow now =/ fricken **** florist people ={ hmm..need something else...hmm...</td>\n",
       "      <td>I HATE FLORISTS  No rose for cassadee tomorrow now =/ fricken **** florist people ={ hmm..need something else...hmm...</td>\n",
       "      <td>negative</td>\n",
       "    </tr>\n",
       "    <tr>\n",
       "      <th>abfb47f0b8</th>\n",
       "      <td>i have nothing to do except right a eassy due on monday D: :[ :{  ]: }:</td>\n",
       "      <td>i have nothing to do except right a eassy due on monday D: :[ :{  ]: }:</td>\n",
       "      <td>negative</td>\n",
       "    </tr>\n",
       "    <tr>\n",
       "      <th>d0b0559549</th>\n",
       "      <td>gnite  Fukn Nite * wanted sum {pinga} but couldn`t get any</td>\n",
       "      <td>gnite  Fukn Nite * wanted sum {pinga} but couldn`t get any</td>\n",
       "      <td>neutral</td>\n",
       "    </tr>\n",
       "  </tbody>\n",
       "</table>\n",
       "</div>"
      ],
      "text/plain": [
       "                                                                                                                              text  \\\n",
       "textID                                                                                                                               \n",
       "a10e8911e9  if aint Bee then it aint me...ya heard me?  {this for u keemie}                                                          \n",
       "6a820dfeec  I HATE FLORISTS  No rose for cassadee tomorrow now =/ fricken **** florist people ={ hmm..need something else...hmm...   \n",
       "abfb47f0b8  i have nothing to do except right a eassy due on monday D: :[ :{  ]: }:                                                  \n",
       "d0b0559549  gnite  Fukn Nite * wanted sum {pinga} but couldn`t get any                                                               \n",
       "\n",
       "                                                                                                                     selected_text  \\\n",
       "textID                                                                                                                               \n",
       "a10e8911e9  if aint Bee then it aint me...ya heard me?  {this for u keemie}                                                          \n",
       "6a820dfeec  I HATE FLORISTS  No rose for cassadee tomorrow now =/ fricken **** florist people ={ hmm..need something else...hmm...   \n",
       "abfb47f0b8  i have nothing to do except right a eassy due on monday D: :[ :{  ]: }:                                                  \n",
       "d0b0559549  gnite  Fukn Nite * wanted sum {pinga} but couldn`t get any                                                               \n",
       "\n",
       "           sentiment  \n",
       "textID                \n",
       "a10e8911e9  neutral   \n",
       "6a820dfeec  negative  \n",
       "abfb47f0b8  negative  \n",
       "d0b0559549  neutral   "
      ]
     },
     "execution_count": 70,
     "metadata": {},
     "output_type": "execute_result"
    }
   ],
   "source": [
    "train_df[train_df.selected_text.fillna('').str.contains('{')]"
   ]
  },
  {
   "cell_type": "code",
   "execution_count": 84,
   "metadata": {
    "scrolled": true
   },
   "outputs": [
    {
     "name": "stdout",
     "output_type": "stream",
     "text": [
      "textID\n",
      "d0b0559549    gnite  Fukn Nite * wanted sum {pinga} but couldn`t get any             \n",
      "abfb47f0b8    i have nothing to do except right a eassy due on monday D: :[ :{  ]: }:\n",
      "Name: selected_text, dtype: object\n"
     ]
    },
    {
     "data": {
      "text/plain": [
       "textID\n",
       "d0b0559549    [gnite, Fukn Nite,  wanted sum, pinga} but couldn`t get any]             \n",
       "abfb47f0b8    [i have nothing to do except right a eassy due on monday D:, [, {, ]:, :]\n",
       "Name: selected_text, dtype: object"
      ]
     },
     "execution_count": 84,
     "metadata": {},
     "output_type": "execute_result"
    }
   ],
   "source": [
    "print(train_df.loc[['d0b0559549', 'abfb47f0b8']].selected_text)\n",
    "\n",
    "train_df.loc[['d0b0559549', 'abfb47f0b8']].selected_text.str.split('\\s\\W')"
   ]
  },
  {
   "cell_type": "code",
   "execution_count": 114,
   "metadata": {},
   "outputs": [
    {
     "data": {
      "text/plain": [
       "True"
      ]
     },
     "execution_count": 114,
     "metadata": {},
     "output_type": "execute_result"
    }
   ],
   "source": [
    "train_df.loc[['d0b0559549']].selected_text[0].lower().split() == train_df.loc[['d0b0559549']].selected_text.str.lower().str.split()[0]\n",
    "# train_df.loc[['d0b0559549']].selected_text.to_string()"
   ]
  },
  {
   "cell_type": "code",
   "execution_count": 116,
   "metadata": {
    "scrolled": true
   },
   "outputs": [
    {
     "data": {
      "text/plain": [
       "['gnite',\n",
       " 'fukn',\n",
       " 'nite',\n",
       " '*',\n",
       " 'wanted',\n",
       " 'sum',\n",
       " '{pinga}',\n",
       " 'but',\n",
       " 'couldn`t',\n",
       " 'get',\n",
       " 'any']"
      ]
     },
     "execution_count": 116,
     "metadata": {},
     "output_type": "execute_result"
    }
   ],
   "source": [
    "str(train_df.loc[['d0b0559549']].selected_text[0]).lower().split()"
   ]
  },
  {
   "cell_type": "code",
   "execution_count": null,
   "metadata": {},
   "outputs": [],
   "source": []
  },
  {
   "cell_type": "markdown",
   "metadata": {},
   "source": [
    "# Text Analysis"
   ]
  },
  {
   "cell_type": "code",
   "execution_count": 38,
   "metadata": {},
   "outputs": [
    {
     "data": {
      "text/plain": [
       "count    31015.000000\n",
       "mean     12.886539   \n",
       "std      6.924092    \n",
       "min      0.000000    \n",
       "25%      7.000000    \n",
       "50%      12.000000   \n",
       "75%      18.000000   \n",
       "max      33.000000   \n",
       "Name: text, dtype: float64"
      ]
     },
     "execution_count": 38,
     "metadata": {},
     "output_type": "execute_result"
    }
   ],
   "source": [
    "all_df.text.fillna('').str.split().str.len().describe()"
   ]
  },
  {
   "cell_type": "code",
   "execution_count": 36,
   "metadata": {
    "scrolled": true
   },
   "outputs": [
    {
     "data": {
      "text/plain": [
       "<matplotlib.axes._subplots.AxesSubplot at 0x17d6080b700>"
      ]
     },
     "execution_count": 36,
     "metadata": {},
     "output_type": "execute_result"
    },
    {
     "data": {
      "image/png": "[encoded data removed]",
      "text/plain": [
       "<Figure size 432x288 with 1 Axes>"
      ]
     },
     "metadata": {
      "needs_background": "light"
     },
     "output_type": "display_data"
    }
   ],
   "source": [
    "all_df.text.fillna('').str.split().str.len().plot.hist()"
   ]
  },
  {
   "cell_type": "code",
   "execution_count": 41,
   "metadata": {
    "scrolled": true
   },
   "outputs": [
    {
     "data": {
      "text/html": [
       "<div>\n",
       "<style scoped>\n",
       "    .dataframe tbody tr th:only-of-type {\n",
       "        vertical-align: middle;\n",
       "    }\n",
       "\n",
       "    .dataframe tbody tr th {\n",
       "        vertical-align: top;\n",
       "    }\n",
       "\n",
       "    .dataframe thead th {\n",
       "        text-align: right;\n",
       "    }\n",
       "</style>\n",
       "<table border=\"1\" class=\"dataframe\">\n",
       "  <thead>\n",
       "    <tr style=\"text-align: right;\">\n",
       "      <th></th>\n",
       "      <th>dataset</th>\n",
       "      <th>text</th>\n",
       "      <th>selected_text</th>\n",
       "      <th>sentiment</th>\n",
       "    </tr>\n",
       "    <tr>\n",
       "      <th>textID</th>\n",
       "      <th></th>\n",
       "      <th></th>\n",
       "      <th></th>\n",
       "      <th></th>\n",
       "    </tr>\n",
       "  </thead>\n",
       "  <tbody>\n",
       "    <tr>\n",
       "      <th>90a2cdb657</th>\n",
       "      <td>train</td>\n",
       "      <td>What better way to spoil mum than to let her kick back and relax over a nice meal and a bottle of her favorite wine? Our wine was a red</td>\n",
       "      <td>favorite</td>\n",
       "      <td>positive</td>\n",
       "    </tr>\n",
       "    <tr>\n",
       "      <th>da724fbf5e</th>\n",
       "      <td>train</td>\n",
       "      <td>_xo  hey chick u alryt u at dads tmoro we sud do sumin aen like last week we neva dun oot this week lol  missed you ha bye hun ****</td>\n",
       "      <td>missed</td>\n",
       "      <td>negative</td>\n",
       "    </tr>\n",
       "    <tr>\n",
       "      <th>881aeb2f99</th>\n",
       "      <td>train</td>\n",
       "      <td>Off to the shelters around me to look for her.  I hope she is okay, so afraid that she is going to get hit by a car. Can`t stop crying</td>\n",
       "      <td>Off to the shelters around me to look for her.  I hope she is okay, so afraid that she is going to get hit by a car. Can`t stop crying</td>\n",
       "      <td>neutral</td>\n",
       "    </tr>\n",
       "    <tr>\n",
       "      <th>b31486f8c0</th>\n",
       "      <td>train</td>\n",
       "      <td>How did Day 26 go from a good budget video (imma put it on her) to such a low budget video (Stadium Music) The end may be near for them</td>\n",
       "      <td>such a low budget video</td>\n",
       "      <td>negative</td>\n",
       "    </tr>\n",
       "    <tr>\n",
       "      <th>98e7195247</th>\n",
       "      <td>train</td>\n",
       "      <td>soooo sunburnt  my mum was out earlier so i had to wait for her to get in and fell asleep on the trampoline for 2 hours in the sun (U)</td>\n",
       "      <td>sunburnt</td>\n",
       "      <td>negative</td>\n",
       "    </tr>\n",
       "    <tr>\n",
       "      <th>...</th>\n",
       "      <td>...</td>\n",
       "      <td>...</td>\n",
       "      <td>...</td>\n",
       "      <td>...</td>\n",
       "    </tr>\n",
       "    <tr>\n",
       "      <th>c99820b355</th>\n",
       "      <td>test</td>\n",
       "      <td>O.k i feel like i need to cry now  i can`t believe that in less than 2 years ill be walking across the stage to get a High School diploma!</td>\n",
       "      <td>NaN</td>\n",
       "      <td>neutral</td>\n",
       "    </tr>\n",
       "    <tr>\n",
       "      <th>470f2669c4</th>\n",
       "      <td>test</td>\n",
       "      <td>well being a retired drummer I can do my own drum roll so all you need to do is read my posts since they take a ton of time  lol</td>\n",
       "      <td>NaN</td>\n",
       "      <td>neutral</td>\n",
       "    </tr>\n",
       "    <tr>\n",
       "      <th>3c9419868b</th>\n",
       "      <td>test</td>\n",
       "      <td>staying afterschool today  not that i have any 'friends' on here - but if i did , i`d tell `em to text me ! lol [ likin` us &lt;3 ]</td>\n",
       "      <td>NaN</td>\n",
       "      <td>positive</td>\n",
       "    </tr>\n",
       "    <tr>\n",
       "      <th>9a2c6ae21c</th>\n",
       "      <td>test</td>\n",
       "      <td>Ohh i forgot to tell you last night that when i was a alton towers i touched a shark  it was amazing !!!! it was nt a massive one tho</td>\n",
       "      <td>NaN</td>\n",
       "      <td>positive</td>\n",
       "    </tr>\n",
       "    <tr>\n",
       "      <th>675d0f99ee</th>\n",
       "      <td>test</td>\n",
       "      <td>HOW COME ITS SO HARD TO FIND A GUY WITH THE SAME PASSION FOR LOVE AS FOR A WOMAN?? AM I EVER GOING TO SEE THE DAY! IM lonely yall!</td>\n",
       "      <td>NaN</td>\n",
       "      <td>negative</td>\n",
       "    </tr>\n",
       "  </tbody>\n",
       "</table>\n",
       "<p>64 rows × 4 columns</p>\n",
       "</div>"
      ],
      "text/plain": [
       "           dataset  \\\n",
       "textID               \n",
       "90a2cdb657  train    \n",
       "da724fbf5e  train    \n",
       "881aeb2f99  train    \n",
       "b31486f8c0  train    \n",
       "98e7195247  train    \n",
       "...           ...    \n",
       "c99820b355  test     \n",
       "470f2669c4  test     \n",
       "3c9419868b  test     \n",
       "9a2c6ae21c  test     \n",
       "675d0f99ee  test     \n",
       "\n",
       "                                                                                                                                                  text  \\\n",
       "textID                                                                                                                                                   \n",
       "90a2cdb657  What better way to spoil mum than to let her kick back and relax over a nice meal and a bottle of her favorite wine? Our wine was a red      \n",
       "da724fbf5e  _xo  hey chick u alryt u at dads tmoro we sud do sumin aen like last week we neva dun oot this week lol  missed you ha bye hun ****          \n",
       "881aeb2f99  Off to the shelters around me to look for her.  I hope she is okay, so afraid that she is going to get hit by a car. Can`t stop crying       \n",
       "b31486f8c0  How did Day 26 go from a good budget video (imma put it on her) to such a low budget video (Stadium Music) The end may be near for them      \n",
       "98e7195247  soooo sunburnt  my mum was out earlier so i had to wait for her to get in and fell asleep on the trampoline for 2 hours in the sun (U)       \n",
       "...                                                                                                                                             ...      \n",
       "c99820b355  O.k i feel like i need to cry now  i can`t believe that in less than 2 years ill be walking across the stage to get a High School diploma!   \n",
       "470f2669c4  well being a retired drummer I can do my own drum roll so all you need to do is read my posts since they take a ton of time  lol             \n",
       "3c9419868b  staying afterschool today  not that i have any 'friends' on here - but if i did , i`d tell `em to text me ! lol [ likin` us <3 ]             \n",
       "9a2c6ae21c  Ohh i forgot to tell you last night that when i was a alton towers i touched a shark  it was amazing !!!! it was nt a massive one tho        \n",
       "675d0f99ee  HOW COME ITS SO HARD TO FIND A GUY WITH THE SAME PASSION FOR LOVE AS FOR A WOMAN?? AM I EVER GOING TO SEE THE DAY! IM lonely yall!           \n",
       "\n",
       "                                                                                                                                     selected_text  \\\n",
       "textID                                                                                                                                               \n",
       "90a2cdb657  favorite                                                                                                                                 \n",
       "da724fbf5e  missed                                                                                                                                   \n",
       "881aeb2f99  Off to the shelters around me to look for her.  I hope she is okay, so afraid that she is going to get hit by a car. Can`t stop crying   \n",
       "b31486f8c0  such a low budget video                                                                                                                  \n",
       "98e7195247  sunburnt                                                                                                                                 \n",
       "...                             ...                                                                                                                  \n",
       "c99820b355  NaN                                                                                                                                      \n",
       "470f2669c4  NaN                                                                                                                                      \n",
       "3c9419868b  NaN                                                                                                                                      \n",
       "9a2c6ae21c  NaN                                                                                                                                      \n",
       "675d0f99ee  NaN                                                                                                                                      \n",
       "\n",
       "           sentiment  \n",
       "textID                \n",
       "90a2cdb657  positive  \n",
       "da724fbf5e  negative  \n",
       "881aeb2f99  neutral   \n",
       "b31486f8c0  negative  \n",
       "98e7195247  negative  \n",
       "...              ...  \n",
       "c99820b355  neutral   \n",
       "470f2669c4  neutral   \n",
       "3c9419868b  positive  \n",
       "9a2c6ae21c  positive  \n",
       "675d0f99ee  negative  \n",
       "\n",
       "[64 rows x 4 columns]"
      ]
     },
     "execution_count": 41,
     "metadata": {},
     "output_type": "execute_result"
    }
   ],
   "source": [
    "all_df[all_df.text.fillna('').str.split().str.len() == 30]"
   ]
  },
  {
   "cell_type": "markdown",
   "metadata": {},
   "source": [
    "# Sentiment Frequency"
   ]
  },
  {
   "cell_type": "code",
   "execution_count": 98,
   "metadata": {
    "scrolled": true
   },
   "outputs": [
    {
     "data": {
      "application/vnd.plotly.v1+json": {
       "config": {
        "plotlyServerURL": "https://plot.ly"
       },
       "data": [
        {
         "name": "train",
         "type": "bar",
         "x": [
          "neutral",
          "positive",
          "negative"
         ],
         "y": [
          11118,
          8582,
          7781
         ]
        },
        {
         "name": "test",
         "type": "bar",
         "x": [
          "neutral",
          "positive",
          "negative"
         ],
         "y": [
          1430,
          1103,
          1001
         ]
        }
       ],
       "layout": {
        "barmode": "stack",
        "template": {
         "data": {
          "bar": [
           {
            "error_x": {
             "color": "#2a3f5f"
            },
            "error_y": {
             "color": "#2a3f5f"
            },
            "marker": {
             "line": {
              "color": "#E5ECF6",
              "width": 0.5
             }
            },
            "type": "bar"
           }
          ],
          "barpolar": [
           {
            "marker": {
             "line": {
              "color": "#E5ECF6",
              "width": 0.5
             }
            },
            "type": "barpolar"
           }
          ],
          "carpet": [
           {
            "aaxis": {
             "endlinecolor": "#2a3f5f",
             "gridcolor": "white",
             "linecolor": "white",
             "minorgridcolor": "white",
             "startlinecolor": "#2a3f5f"
            },
            "baxis": {
             "endlinecolor": "#2a3f5f",
             "gridcolor": "white",
             "linecolor": "white",
             "minorgridcolor": "white",
             "startlinecolor": "#2a3f5f"
            },
            "type": "carpet"
           }
          ],
          "choropleth": [
           {
            "colorbar": {
             "outlinewidth": 0,
             "ticks": ""
            },
            "type": "choropleth"
           }
          ],
          "contour": [
           {
            "colorbar": {
             "outlinewidth": 0,
             "ticks": ""
            },
            "colorscale": [
             [
              0,
              "#0d0887"
             ],
             [
              0.1111111111111111,
              "#46039f"
             ],
             [
              0.2222222222222222,
              "#7201a8"
             ],
             [
              0.3333333333333333,
              "#9c179e"
             ],
             [
              0.4444444444444444,
              "#bd3786"
             ],
             [
              0.5555555555555556,
              "#d8576b"
             ],
             [
              0.6666666666666666,
              "#ed7953"
             ],
             [
              0.7777777777777778,
              "#fb9f3a"
             ],
             [
              0.8888888888888888,
              "#fdca26"
             ],
             [
              1,
              "#f0f921"
             ]
            ],
            "type": "contour"
           }
          ],
          "contourcarpet": [
           {
            "colorbar": {
             "outlinewidth": 0,
             "ticks": ""
            },
            "type": "contourcarpet"
           }
          ],
          "heatmap": [
           {
            "colorbar": {
             "outlinewidth": 0,
             "ticks": ""
            },
            "colorscale": [
             [
              0,
              "#0d0887"
             ],
             [
              0.1111111111111111,
              "#46039f"
             ],
             [
              0.2222222222222222,
              "#7201a8"
             ],
             [
              0.3333333333333333,
              "#9c179e"
             ],
             [
              0.4444444444444444,
              "#bd3786"
             ],
             [
              0.5555555555555556,
              "#d8576b"
             ],
             [
              0.6666666666666666,
              "#ed7953"
             ],
             [
              0.7777777777777778,
              "#fb9f3a"
             ],
             [
              0.8888888888888888,
              "#fdca26"
             ],
             [
              1,
              "#f0f921"
             ]
            ],
            "type": "heatmap"
           }
          ],
          "heatmapgl": [
           {
            "colorbar": {
             "outlinewidth": 0,
             "ticks": ""
            },
            "colorscale": [
             [
              0,
              "#0d0887"
             ],
             [
              0.1111111111111111,
              "#46039f"
             ],
             [
              0.2222222222222222,
              "#7201a8"
             ],
             [
              0.3333333333333333,
              "#9c179e"
             ],
             [
              0.4444444444444444,
              "#bd3786"
             ],
             [
              0.5555555555555556,
              "#d8576b"
             ],
             [
              0.6666666666666666,
              "#ed7953"
             ],
             [
              0.7777777777777778,
              "#fb9f3a"
             ],
             [
              0.8888888888888888,
              "#fdca26"
             ],
             [
              1,
              "#f0f921"
             ]
            ],
            "type": "heatmapgl"
           }
          ],
          "histogram": [
           {
            "marker": {
             "colorbar": {
              "outlinewidth": 0,
              "ticks": ""
             }
            },
            "type": "histogram"
           }
          ],
          "histogram2d": [
           {
            "colorbar": {
             "outlinewidth": 0,
             "ticks": ""
            },
            "colorscale": [
             [
              0,
              "#0d0887"
             ],
             [
              0.1111111111111111,
              "#46039f"
             ],
             [
              0.2222222222222222,
              "#7201a8"
             ],
             [
              0.3333333333333333,
              "#9c179e"
             ],
             [
              0.4444444444444444,
              "#bd3786"
             ],
             [
              0.5555555555555556,
              "#d8576b"
             ],
             [
              0.6666666666666666,
              "#ed7953"
             ],
             [
              0.7777777777777778,
              "#fb9f3a"
             ],
             [
              0.8888888888888888,
              "#fdca26"
             ],
             [
              1,
              "#f0f921"
             ]
            ],
            "type": "histogram2d"
           }
          ],
          "histogram2dcontour": [
           {
            "colorbar": {
             "outlinewidth": 0,
             "ticks": ""
            },
            "colorscale": [
             [
              0,
              "#0d0887"
             ],
             [
              0.1111111111111111,
              "#46039f"
             ],
             [
              0.2222222222222222,
              "#7201a8"
             ],
             [
              0.3333333333333333,
              "#9c179e"
             ],
             [
              0.4444444444444444,
              "#bd3786"
             ],
             [
              0.5555555555555556,
              "#d8576b"
             ],
             [
              0.6666666666666666,
              "#ed7953"
             ],
             [
              0.7777777777777778,
              "#fb9f3a"
             ],
             [
              0.8888888888888888,
              "#fdca26"
             ],
             [
              1,
              "#f0f921"
             ]
            ],
            "type": "histogram2dcontour"
           }
          ],
          "mesh3d": [
           {
            "colorbar": {
             "outlinewidth": 0,
             "ticks": ""
            },
            "type": "mesh3d"
           }
          ],
          "parcoords": [
           {
            "line": {
             "colorbar": {
              "outlinewidth": 0,
              "ticks": ""
             }
            },
            "type": "parcoords"
           }
          ],
          "pie": [
           {
            "automargin": true,
            "type": "pie"
           }
          ],
          "scatter": [
           {
            "marker": {
             "colorbar": {
              "outlinewidth": 0,
              "ticks": ""
             }
            },
            "type": "scatter"
           }
          ],
          "scatter3d": [
           {
            "line": {
             "colorbar": {
              "outlinewidth": 0,
              "ticks": ""
             }
            },
            "marker": {
             "colorbar": {
              "outlinewidth": 0,
              "ticks": ""
             }
            },
            "type": "scatter3d"
           }
          ],
          "scattercarpet": [
           {
            "marker": {
             "colorbar": {
              "outlinewidth": 0,
              "ticks": ""
             }
            },
            "type": "scattercarpet"
           }
          ],
          "scattergeo": [
           {
            "marker": {
             "colorbar": {
              "outlinewidth": 0,
              "ticks": ""
             }
            },
            "type": "scattergeo"
           }
          ],
          "scattergl": [
           {
            "marker": {
             "colorbar": {
              "outlinewidth": 0,
              "ticks": ""
             }
            },
            "type": "scattergl"
           }
          ],
          "scattermapbox": [
           {
            "marker": {
             "colorbar": {
              "outlinewidth": 0,
              "ticks": ""
             }
            },
            "type": "scattermapbox"
           }
          ],
          "scatterpolar": [
           {
            "marker": {
             "colorbar": {
              "outlinewidth": 0,
              "ticks": ""
             }
            },
            "type": "scatterpolar"
           }
          ],
          "scatterpolargl": [
           {
            "marker": {
             "colorbar": {
              "outlinewidth": 0,
              "ticks": ""
             }
            },
            "type": "scatterpolargl"
           }
          ],
          "scatterternary": [
           {
            "marker": {
             "colorbar": {
              "outlinewidth": 0,
              "ticks": ""
             }
            },
            "type": "scatterternary"
           }
          ],
          "surface": [
           {
            "colorbar": {
             "outlinewidth": 0,
             "ticks": ""
            },
            "colorscale": [
             [
              0,
              "#0d0887"
             ],
             [
              0.1111111111111111,
              "#46039f"
             ],
             [
              0.2222222222222222,
              "#7201a8"
             ],
             [
              0.3333333333333333,
              "#9c179e"
             ],
             [
              0.4444444444444444,
              "#bd3786"
             ],
             [
              0.5555555555555556,
              "#d8576b"
             ],
             [
              0.6666666666666666,
              "#ed7953"
             ],
             [
              0.7777777777777778,
              "#fb9f3a"
             ],
             [
              0.8888888888888888,
              "#fdca26"
             ],
             [
              1,
              "#f0f921"
             ]
            ],
            "type": "surface"
           }
          ],
          "table": [
           {
            "cells": {
             "fill": {
              "color": "#EBF0F8"
             },
             "line": {
              "color": "white"
             }
            },
            "header": {
             "fill": {
              "color": "#C8D4E3"
             },
             "line": {
              "color": "white"
             }
            },
            "type": "table"
           }
          ]
         },
         "layout": {
          "annotationdefaults": {
           "arrowcolor": "#2a3f5f",
           "arrowhead": 0,
           "arrowwidth": 1
          },
          "coloraxis": {
           "colorbar": {
            "outlinewidth": 0,
            "ticks": ""
           }
          },
          "colorscale": {
           "diverging": [
            [
             0,
             "#8e0152"
            ],
            [
             0.1,
             "#c51b7d"
            ],
            [
             0.2,
             "#de77ae"
            ],
            [
             0.3,
             "#f1b6da"
            ],
            [
             0.4,
             "#fde0ef"
            ],
            [
             0.5,
             "#f7f7f7"
            ],
            [
             0.6,
             "#e6f5d0"
            ],
            [
             0.7,
             "#b8e186"
            ],
            [
             0.8,
             "#7fbc41"
            ],
            [
             0.9,
             "#4d9221"
            ],
            [
             1,
             "#276419"
            ]
           ],
           "sequential": [
            [
             0,
             "#0d0887"
            ],
            [
             0.1111111111111111,
             "#46039f"
            ],
            [
             0.2222222222222222,
             "#7201a8"
            ],
            [
             0.3333333333333333,
             "#9c179e"
            ],
            [
             0.4444444444444444,
             "#bd3786"
            ],
            [
             0.5555555555555556,
             "#d8576b"
            ],
            [
             0.6666666666666666,
             "#ed7953"
            ],
            [
             0.7777777777777778,
             "#fb9f3a"
            ],
            [
             0.8888888888888888,
             "#fdca26"
            ],
            [
             1,
             "#f0f921"
            ]
           ],
           "sequentialminus": [
            [
             0,
             "#0d0887"
            ],
            [
             0.1111111111111111,
             "#46039f"
            ],
            [
             0.2222222222222222,
             "#7201a8"
            ],
            [
             0.3333333333333333,
             "#9c179e"
            ],
            [
             0.4444444444444444,
             "#bd3786"
            ],
            [
             0.5555555555555556,
             "#d8576b"
            ],
            [
             0.6666666666666666,
             "#ed7953"
            ],
            [
             0.7777777777777778,
             "#fb9f3a"
            ],
            [
             0.8888888888888888,
             "#fdca26"
            ],
            [
             1,
             "#f0f921"
            ]
           ]
          },
          "colorway": [
           "#636efa",
           "#EF553B",
           "#00cc96",
           "#ab63fa",
           "#FFA15A",
           "#19d3f3",
           "#FF6692",
           "#B6E880",
           "#FF97FF",
           "#FECB52"
          ],
          "font": {
           "color": "#2a3f5f"
          },
          "geo": {
           "bgcolor": "white",
           "lakecolor": "white",
           "landcolor": "#E5ECF6",
           "showlakes": true,
           "showland": true,
           "subunitcolor": "white"
          },
          "hoverlabel": {
           "align": "left"
          },
          "hovermode": "closest",
          "mapbox": {
           "style": "light"
          },
          "paper_bgcolor": "white",
          "plot_bgcolor": "#E5ECF6",
          "polar": {
           "angularaxis": {
            "gridcolor": "white",
            "linecolor": "white",
            "ticks": ""
           },
           "bgcolor": "#E5ECF6",
           "radialaxis": {
            "gridcolor": "white",
            "linecolor": "white",
            "ticks": ""
           }
          },
          "scene": {
           "xaxis": {
            "backgroundcolor": "#E5ECF6",
            "gridcolor": "white",
            "gridwidth": 2,
            "linecolor": "white",
            "showbackground": true,
            "ticks": "",
            "zerolinecolor": "white"
           },
           "yaxis": {
            "backgroundcolor": "#E5ECF6",
            "gridcolor": "white",
            "gridwidth": 2,
            "linecolor": "white",
            "showbackground": true,
            "ticks": "",
            "zerolinecolor": "white"
           },
           "zaxis": {
            "backgroundcolor": "#E5ECF6",
            "gridcolor": "white",
            "gridwidth": 2,
            "linecolor": "white",
            "showbackground": true,
            "ticks": "",
            "zerolinecolor": "white"
           }
          },
          "shapedefaults": {
           "line": {
            "color": "#2a3f5f"
           }
          },
          "ternary": {
           "aaxis": {
            "gridcolor": "white",
            "linecolor": "white",
            "ticks": ""
           },
           "baxis": {
            "gridcolor": "white",
            "linecolor": "white",
            "ticks": ""
           },
           "bgcolor": "#E5ECF6",
           "caxis": {
            "gridcolor": "white",
            "linecolor": "white",
            "ticks": ""
           }
          },
          "title": {
           "x": 0.05
          },
          "xaxis": {
           "automargin": true,
           "gridcolor": "white",
           "linecolor": "white",
           "ticks": "",
           "title": {
            "standoff": 15
           },
           "zerolinecolor": "white",
           "zerolinewidth": 2
          },
          "yaxis": {
           "automargin": true,
           "gridcolor": "white",
           "linecolor": "white",
           "ticks": "",
           "title": {
            "standoff": 15
           },
           "zerolinecolor": "white",
           "zerolinewidth": 2
          }
         }
        },
        "title": {
         "text": "Sentiment Counts by Train & Test Sets"
        }
       }
      },
      "text/html": [
       "<div>\n",
       "        \n",
       "        \n",
       "            <div id=\"59869553-45d8-4fa9-8265-99907f1f99be\" class=\"plotly-graph-div\" style=\"height:525px; width:100%;\"></div>\n",
       "            <script type=\"text/javascript\">\n",
       "                require([\"plotly\"], function(Plotly) {\n",
       "                    window.PLOTLYENV=window.PLOTLYENV || {};\n",
       "                    \n",
       "                if (document.getElementById(\"59869553-45d8-4fa9-8265-99907f1f99be\")) {\n",
       "                    Plotly.newPlot(\n",
       "                        '59869553-45d8-4fa9-8265-99907f1f99be',\n",
       "                        [{\"name\": \"train\", \"type\": \"bar\", \"x\": [\"neutral\", \"positive\", \"negative\"], \"y\": [11118, 8582, 7781]}, {\"name\": \"test\", \"type\": \"bar\", \"x\": [\"neutral\", \"positive\", \"negative\"], \"y\": [1430, 1103, 1001]}],\n",
       "                        {\"barmode\": \"stack\", \"template\": {\"data\": {\"bar\": [{\"error_x\": {\"color\": \"#2a3f5f\"}, \"error_y\": {\"color\": \"#2a3f5f\"}, \"marker\": {\"line\": {\"color\": \"#E5ECF6\", \"width\": 0.5}}, \"type\": \"bar\"}], \"barpolar\": [{\"marker\": {\"line\": {\"color\": \"#E5ECF6\", \"width\": 0.5}}, \"type\": \"barpolar\"}], \"carpet\": [{\"aaxis\": {\"endlinecolor\": \"#2a3f5f\", \"gridcolor\": \"white\", \"linecolor\": \"white\", \"minorgridcolor\": \"white\", \"startlinecolor\": \"#2a3f5f\"}, \"baxis\": {\"endlinecolor\": \"#2a3f5f\", \"gridcolor\": \"white\", \"linecolor\": \"white\", \"minorgridcolor\": \"white\", \"startlinecolor\": \"#2a3f5f\"}, \"type\": \"carpet\"}], \"choropleth\": [{\"colorbar\": {\"outlinewidth\": 0, \"ticks\": \"\"}, \"type\": \"choropleth\"}], \"contour\": [{\"colorbar\": {\"outlinewidth\": 0, \"ticks\": \"\"}, \"colorscale\": [[0.0, \"#0d0887\"], [0.1111111111111111, \"#46039f\"], [0.2222222222222222, \"#7201a8\"], [0.3333333333333333, \"#9c179e\"], [0.4444444444444444, \"#bd3786\"], [0.5555555555555556, \"#d8576b\"], [0.6666666666666666, \"#ed7953\"], [0.7777777777777778, \"#fb9f3a\"], [0.8888888888888888, \"#fdca26\"], [1.0, \"#f0f921\"]], \"type\": \"contour\"}], \"contourcarpet\": [{\"colorbar\": {\"outlinewidth\": 0, \"ticks\": \"\"}, \"type\": \"contourcarpet\"}], \"heatmap\": [{\"colorbar\": {\"outlinewidth\": 0, \"ticks\": \"\"}, \"colorscale\": [[0.0, \"#0d0887\"], [0.1111111111111111, \"#46039f\"], [0.2222222222222222, \"#7201a8\"], [0.3333333333333333, \"#9c179e\"], [0.4444444444444444, \"#bd3786\"], [0.5555555555555556, \"#d8576b\"], [0.6666666666666666, \"#ed7953\"], [0.7777777777777778, \"#fb9f3a\"], [0.8888888888888888, \"#fdca26\"], [1.0, \"#f0f921\"]], \"type\": \"heatmap\"}], \"heatmapgl\": [{\"colorbar\": {\"outlinewidth\": 0, \"ticks\": \"\"}, \"colorscale\": [[0.0, \"#0d0887\"], [0.1111111111111111, \"#46039f\"], [0.2222222222222222, \"#7201a8\"], [0.3333333333333333, \"#9c179e\"], [0.4444444444444444, \"#bd3786\"], [0.5555555555555556, \"#d8576b\"], [0.6666666666666666, \"#ed7953\"], [0.7777777777777778, \"#fb9f3a\"], [0.8888888888888888, \"#fdca26\"], [1.0, \"#f0f921\"]], \"type\": \"heatmapgl\"}], \"histogram\": [{\"marker\": {\"colorbar\": {\"outlinewidth\": 0, \"ticks\": \"\"}}, \"type\": \"histogram\"}], \"histogram2d\": [{\"colorbar\": {\"outlinewidth\": 0, \"ticks\": \"\"}, \"colorscale\": [[0.0, \"#0d0887\"], [0.1111111111111111, \"#46039f\"], [0.2222222222222222, \"#7201a8\"], [0.3333333333333333, \"#9c179e\"], [0.4444444444444444, \"#bd3786\"], [0.5555555555555556, \"#d8576b\"], [0.6666666666666666, \"#ed7953\"], [0.7777777777777778, \"#fb9f3a\"], [0.8888888888888888, \"#fdca26\"], [1.0, \"#f0f921\"]], \"type\": \"histogram2d\"}], \"histogram2dcontour\": [{\"colorbar\": {\"outlinewidth\": 0, \"ticks\": \"\"}, \"colorscale\": [[0.0, \"#0d0887\"], [0.1111111111111111, \"#46039f\"], [0.2222222222222222, \"#7201a8\"], [0.3333333333333333, \"#9c179e\"], [0.4444444444444444, \"#bd3786\"], [0.5555555555555556, \"#d8576b\"], [0.6666666666666666, \"#ed7953\"], [0.7777777777777778, \"#fb9f3a\"], [0.8888888888888888, \"#fdca26\"], [1.0, \"#f0f921\"]], \"type\": \"histogram2dcontour\"}], \"mesh3d\": [{\"colorbar\": {\"outlinewidth\": 0, \"ticks\": \"\"}, \"type\": \"mesh3d\"}], \"parcoords\": [{\"line\": {\"colorbar\": {\"outlinewidth\": 0, \"ticks\": \"\"}}, \"type\": \"parcoords\"}], \"pie\": [{\"automargin\": true, \"type\": \"pie\"}], \"scatter\": [{\"marker\": {\"colorbar\": {\"outlinewidth\": 0, \"ticks\": \"\"}}, \"type\": \"scatter\"}], \"scatter3d\": [{\"line\": {\"colorbar\": {\"outlinewidth\": 0, \"ticks\": \"\"}}, \"marker\": {\"colorbar\": {\"outlinewidth\": 0, \"ticks\": \"\"}}, \"type\": \"scatter3d\"}], \"scattercarpet\": [{\"marker\": {\"colorbar\": {\"outlinewidth\": 0, \"ticks\": \"\"}}, \"type\": \"scattercarpet\"}], \"scattergeo\": [{\"marker\": {\"colorbar\": {\"outlinewidth\": 0, \"ticks\": \"\"}}, \"type\": \"scattergeo\"}], \"scattergl\": [{\"marker\": {\"colorbar\": {\"outlinewidth\": 0, \"ticks\": \"\"}}, \"type\": \"scattergl\"}], \"scattermapbox\": [{\"marker\": {\"colorbar\": {\"outlinewidth\": 0, \"ticks\": \"\"}}, \"type\": \"scattermapbox\"}], \"scatterpolar\": [{\"marker\": {\"colorbar\": {\"outlinewidth\": 0, \"ticks\": \"\"}}, \"type\": \"scatterpolar\"}], \"scatterpolargl\": [{\"marker\": {\"colorbar\": {\"outlinewidth\": 0, \"ticks\": \"\"}}, \"type\": \"scatterpolargl\"}], \"scatterternary\": [{\"marker\": {\"colorbar\": {\"outlinewidth\": 0, \"ticks\": \"\"}}, \"type\": \"scatterternary\"}], \"surface\": [{\"colorbar\": {\"outlinewidth\": 0, \"ticks\": \"\"}, \"colorscale\": [[0.0, \"#0d0887\"], [0.1111111111111111, \"#46039f\"], [0.2222222222222222, \"#7201a8\"], [0.3333333333333333, \"#9c179e\"], [0.4444444444444444, \"#bd3786\"], [0.5555555555555556, \"#d8576b\"], [0.6666666666666666, \"#ed7953\"], [0.7777777777777778, \"#fb9f3a\"], [0.8888888888888888, \"#fdca26\"], [1.0, \"#f0f921\"]], \"type\": \"surface\"}], \"table\": [{\"cells\": {\"fill\": {\"color\": \"#EBF0F8\"}, \"line\": {\"color\": \"white\"}}, \"header\": {\"fill\": {\"color\": \"#C8D4E3\"}, \"line\": {\"color\": \"white\"}}, \"type\": \"table\"}]}, \"layout\": {\"annotationdefaults\": {\"arrowcolor\": \"#2a3f5f\", \"arrowhead\": 0, \"arrowwidth\": 1}, \"coloraxis\": {\"colorbar\": {\"outlinewidth\": 0, \"ticks\": \"\"}}, \"colorscale\": {\"diverging\": [[0, \"#8e0152\"], [0.1, \"#c51b7d\"], [0.2, \"#de77ae\"], [0.3, \"#f1b6da\"], [0.4, \"#fde0ef\"], [0.5, \"#f7f7f7\"], [0.6, \"#e6f5d0\"], [0.7, \"#b8e186\"], [0.8, \"#7fbc41\"], [0.9, \"#4d9221\"], [1, \"#276419\"]], \"sequential\": [[0.0, \"#0d0887\"], [0.1111111111111111, \"#46039f\"], [0.2222222222222222, \"#7201a8\"], [0.3333333333333333, \"#9c179e\"], [0.4444444444444444, \"#bd3786\"], [0.5555555555555556, \"#d8576b\"], [0.6666666666666666, \"#ed7953\"], [0.7777777777777778, \"#fb9f3a\"], [0.8888888888888888, \"#fdca26\"], [1.0, \"#f0f921\"]], \"sequentialminus\": [[0.0, \"#0d0887\"], [0.1111111111111111, \"#46039f\"], [0.2222222222222222, \"#7201a8\"], [0.3333333333333333, \"#9c179e\"], [0.4444444444444444, \"#bd3786\"], [0.5555555555555556, \"#d8576b\"], [0.6666666666666666, \"#ed7953\"], [0.7777777777777778, \"#fb9f3a\"], [0.8888888888888888, \"#fdca26\"], [1.0, \"#f0f921\"]]}, \"colorway\": [\"#636efa\", \"#EF553B\", \"#00cc96\", \"#ab63fa\", \"#FFA15A\", \"#19d3f3\", \"#FF6692\", \"#B6E880\", \"#FF97FF\", \"#FECB52\"], \"font\": {\"color\": \"#2a3f5f\"}, \"geo\": {\"bgcolor\": \"white\", \"lakecolor\": \"white\", \"landcolor\": \"#E5ECF6\", \"showlakes\": true, \"showland\": true, \"subunitcolor\": \"white\"}, \"hoverlabel\": {\"align\": \"left\"}, \"hovermode\": \"closest\", \"mapbox\": {\"style\": \"light\"}, \"paper_bgcolor\": \"white\", \"plot_bgcolor\": \"#E5ECF6\", \"polar\": {\"angularaxis\": {\"gridcolor\": \"white\", \"linecolor\": \"white\", \"ticks\": \"\"}, \"bgcolor\": \"#E5ECF6\", \"radialaxis\": {\"gridcolor\": \"white\", \"linecolor\": \"white\", \"ticks\": \"\"}}, \"scene\": {\"xaxis\": {\"backgroundcolor\": \"#E5ECF6\", \"gridcolor\": \"white\", \"gridwidth\": 2, \"linecolor\": \"white\", \"showbackground\": true, \"ticks\": \"\", \"zerolinecolor\": \"white\"}, \"yaxis\": {\"backgroundcolor\": \"#E5ECF6\", \"gridcolor\": \"white\", \"gridwidth\": 2, \"linecolor\": \"white\", \"showbackground\": true, \"ticks\": \"\", \"zerolinecolor\": \"white\"}, \"zaxis\": {\"backgroundcolor\": \"#E5ECF6\", \"gridcolor\": \"white\", \"gridwidth\": 2, \"linecolor\": \"white\", \"showbackground\": true, \"ticks\": \"\", \"zerolinecolor\": \"white\"}}, \"shapedefaults\": {\"line\": {\"color\": \"#2a3f5f\"}}, \"ternary\": {\"aaxis\": {\"gridcolor\": \"white\", \"linecolor\": \"white\", \"ticks\": \"\"}, \"baxis\": {\"gridcolor\": \"white\", \"linecolor\": \"white\", \"ticks\": \"\"}, \"bgcolor\": \"#E5ECF6\", \"caxis\": {\"gridcolor\": \"white\", \"linecolor\": \"white\", \"ticks\": \"\"}}, \"title\": {\"x\": 0.05}, \"xaxis\": {\"automargin\": true, \"gridcolor\": \"white\", \"linecolor\": \"white\", \"ticks\": \"\", \"title\": {\"standoff\": 15}, \"zerolinecolor\": \"white\", \"zerolinewidth\": 2}, \"yaxis\": {\"automargin\": true, \"gridcolor\": \"white\", \"linecolor\": \"white\", \"ticks\": \"\", \"title\": {\"standoff\": 15}, \"zerolinecolor\": \"white\", \"zerolinewidth\": 2}}}, \"title\": {\"text\": \"Sentiment Counts by Train & Test Sets\"}},\n",
       "                        {\"responsive\": true}\n",
       "                    ).then(function(){\n",
       "                            \n",
       "var gd = document.getElementById('59869553-45d8-4fa9-8265-99907f1f99be');\n",
       "var x = new MutationObserver(function (mutations, observer) {{\n",
       "        var display = window.getComputedStyle(gd).display;\n",
       "        if (!display || display === 'none') {{\n",
       "            console.log([gd, 'removed!']);\n",
       "            Plotly.purge(gd);\n",
       "            observer.disconnect();\n",
       "        }}\n",
       "}});\n",
       "\n",
       "// Listen for the removal of the full notebook cells\n",
       "var notebookContainer = gd.closest('#notebook-container');\n",
       "if (notebookContainer) {{\n",
       "    x.observe(notebookContainer, {childList: true});\n",
       "}}\n",
       "\n",
       "// Listen for the clearing of the current output cell\n",
       "var outputEl = gd.closest('.output');\n",
       "if (outputEl) {{\n",
       "    x.observe(outputEl, {childList: true});\n",
       "}}\n",
       "\n",
       "                        })\n",
       "                };\n",
       "                });\n",
       "            </script>\n",
       "        </div>"
      ]
     },
     "metadata": {},
     "output_type": "display_data"
    }
   ],
   "source": [
    "sentiment_counts_train, sentiment_counts_test =\\\n",
    "    train_df.groupby('sentiment').size().sort_values(ascending=False),\\\n",
    "    test_df.groupby('sentiment').size().sort_values(ascending=False)\n",
    "\n",
    "\n",
    "fig = go.Figure(data=[\n",
    "    go.Bar(name='train', x=sentiment_counts_train.index, y=sentiment_counts_train),\n",
    "    go.Bar(name='test', x=sentiment_counts_test.index, y=sentiment_counts_test)\n",
    "]).update_layout(barmode='stack', \n",
    "                 title='Sentiment Counts by Train & Test Sets')\n",
    "\n",
    "fig.show()"
   ]
  },
  {
   "cell_type": "code",
   "execution_count": 255,
   "metadata": {},
   "outputs": [],
   "source": [
    "\n",
    "nlp = English()\n",
    "\n",
    "all_text = all_df.text.fillna('')\\\n",
    "    .str.lower()\\\n",
    "    .apply(lambda text: ' '.join([tok.lemma_ for tok in nlp(text) if not tok.is_punct and not tok.is_space and not tok.like_url]))\\\n",
    "    .apply(lambda text: ' '.join([tok.text for tok in nlp(text) if not tok.is_stop]))"
   ]
  },
  {
   "cell_type": "code",
   "execution_count": 261,
   "metadata": {
    "scrolled": true
   },
   "outputs": [],
   "source": [
    "\n",
    "def create_n_gram_dtm(text_data, min_n_gram=1, max_n_gram=1, min_df=.01):\n",
    "    \"\"\"\n",
    "    Creates a document-term-matrix from a column of text\n",
    "    :param text_data: a Pandas Series containing text\n",
    "    :param max_n_gram: default is 1\n",
    "    :param min_n_gram: default is 1\n",
    "    :param min_df: default is 10\n",
    "    :return: dtm sparse matrix and list of feature names\n",
    "    \"\"\"\n",
    "    n_gram_vectorizer = TfidfVectorizer(min_df=min_df,\n",
    "                                        ngram_range=(min_n_gram, max_n_gram))   \n",
    "    dtm = n_gram_vectorizer.fit_transform(text_data)\n",
    "    return (dtm, n_gram_vectorizer.get_feature_names())\n",
    "\n",
    "\n",
    "unigram_dtm, unigram_feature_names = create_n_gram_dtm(all_text,\n",
    "                                                       min_df=10**(-3))"
   ]
  },
  {
   "cell_type": "code",
   "execution_count": 267,
   "metadata": {},
   "outputs": [],
   "source": [
    "\n",
    "def plot_most_correlated_tokens(dtm, feature_names, labels, n_grams = 1, \n",
    "                                top_n_tokens = 10, return_df=False):\n",
    "    \"\"\"\n",
    "    Calculates the chi-squared statistic for each of terms and classes \n",
    "    and plots the top 10 terms by class.\n",
    "    \n",
    "    :param dtm: a sparse matrix\n",
    "    :param feature_names: list of feature names\n",
    "    :param n_grams: select the n-gram\n",
    "    :param labels: list of response labels for each document\n",
    "    :param top_n_tokens: select the top n\n",
    "    :return: returns df if return_df=True\n",
    "    Sources: https://github.com/mwaskom/seaborn/issues/867#issuecomment-184918644\n",
    "    \"\"\"\n",
    "    # initialize empty df\n",
    "    response_label_values = labels.unique()\n",
    "    top_chi2_df = pd.DataFrame(columns=['stars', 'feature_name', 'chi2_value'])\n",
    "    for response_label_value in response_label_values:   \n",
    "        features_chi2 = chi2(dtm, labels==response_label_value) # calc chi^2 for the class\n",
    "        indices = np.argsort(features_chi2[0]) # get the sorted indices\n",
    "        feature_names_sorted = np.array(feature_names)[indices] # sort feature names ascendinglyly    \n",
    "        top_feature_names = feature_names_sorted[-top_n_tokens:]\n",
    "        top_chi2_values = np.sort(features_chi2[0])[-top_n_tokens:]\n",
    "        stars_df = pd.DataFrame({'stars': np.repeat(response_label_value, top_n_tokens), \n",
    "                                 'feature_name': top_feature_names,\n",
    "                                 'chi2_value': top_chi2_values})   \n",
    "        top_chi2_df = pd.concat([top_chi2_df, stars_df], sort=True)\n",
    "\n",
    "    # create Faceted Grid Plot\n",
    "    g = sns.FacetGrid(col=\"stars\", col_wrap=3, sharex=False, margin_titles=True, data=top_chi2_df)\n",
    "    g.map(sns.barplot, \"feature_name\", \"chi2_value\", color=\"steelblue\")\n",
    "    [plt.setp(ax.get_xticklabels(), rotation=45, fontsize=15) for ax in g.axes.flat]\n",
    "    sns.set(font_scale=2)\n",
    "    plt.subplots_adjust(hspace=.75, wspace=.3) # https://stackoverflow.com/a/43699744/4463701\n",
    "    g.fig.set_size_inches(20,15) # https://stackoverflow.com/a/46346780/4463701\n",
    "    if return_df:\n",
    "        return top_chi2_df\n",
    "# https://scikit-learn.org/stable/modules/generated/sklearn.feature_selection.chi2.html\n",
    "# https://github.com/scikit-learn/scikit-learn/blob/55bf5d9/sklearn/feature_selection/univariate_selection.py#L172"
   ]
  },
  {
   "cell_type": "code",
   "execution_count": 268,
   "metadata": {},
   "outputs": [
    {
     "name": "stderr",
     "output_type": "stream",
     "text": [
      "C:\\Users\\kyleg\\Anaconda3\\envs\\py38\\lib\\site-packages\\seaborn\\axisgrid.py:728: UserWarning:\n",
      "\n",
      "Using the barplot function without specifying `order` is likely to produce an incorrect plot.\n",
      "\n"
     ]
    },
    {
     "data": {
      "image/png": "[encoded data removed]",
      "text/plain": [
       "<Figure size 1440x1080 with 3 Axes>"
      ]
     },
     "metadata": {
      "needs_background": "light"
     },
     "output_type": "display_data"
    }
   ],
   "source": [
    "plot_most_correlated_tokens(unigram_dtm, unigram_feature_names, all_df.sentiment)"
   ]
  },
  {
   "cell_type": "code",
   "execution_count": 282,
   "metadata": {
    "scrolled": true
   },
   "outputs": [
    {
     "data": {
      "text/plain": [
       "28686"
      ]
     },
     "execution_count": 282,
     "metadata": {},
     "output_type": "execute_result"
    }
   ],
   "source": [
    "len(set(train_df.selected_text.fillna('').str.lower().str.cat(sep=' ').split()))"
   ]
  },
  {
   "cell_type": "code",
   "execution_count": 281,
   "metadata": {
    "scrolled": true
   },
   "outputs": [
    {
     "data": {
      "text/plain": [
       "1"
      ]
     },
     "execution_count": 281,
     "metadata": {},
     "output_type": "execute_result"
    }
   ],
   "source": [
    "train_df.selected_text.isnull().sum()"
   ]
  },
  {
   "cell_type": "code",
   "execution_count": 299,
   "metadata": {},
   "outputs": [
    {
     "data": {
      "text/plain": [
       "array([[0, 0, 0, ..., 0, 0, 0],\n",
       "       [0, 0, 0, ..., 0, 0, 0],\n",
       "       [0, 0, 0, ..., 0, 0, 0],\n",
       "       ...,\n",
       "       [0, 0, 0, ..., 0, 0, 0],\n",
       "       [0, 0, 0, ..., 0, 0, 0],\n",
       "       [0, 0, 0, ..., 0, 0, 0]], dtype=uint8)"
      ]
     },
     "execution_count": 299,
     "metadata": {},
     "output_type": "execute_result"
    }
   ],
   "source": [
    "pd.Series(train_df.selected_text.fillna('').str.lower().str.cat(sep=' ').split(), dtype='category')"
   ]
  }
 ],
 "metadata": {
  "kernelspec": {
   "display_name": "Python 3",
   "language": "python",
   "name": "python3"
  },
  "language_info": {
   "codemirror_mode": {
    "name": "ipython",
    "version": 3
   },
   "file_extension": ".py",
   "mimetype": "text/x-python",
   "name": "python",
   "nbconvert_exporter": "python",
   "pygments_lexer": "ipython3",
   "version": "3.8.2"
  }
 },
 "nbformat": 4,
 "nbformat_minor": 4
}
